{
 "cells": [
  {
   "cell_type": "code",
   "execution_count": 1,
   "metadata": {},
   "outputs": [],
   "source": [
    "import tensorflow as tf\n",
    "physical_devices = tf.config.experimental.list_physical_devices('GPU')\n",
    "tf.config.experimental.set_memory_growth(physical_devices[0], True)"
   ]
  },
  {
   "cell_type": "code",
   "execution_count": 2,
   "metadata": {},
   "outputs": [
    {
     "name": "stdout",
     "output_type": "stream",
     "text": [
      "[1, 2, 3, 4, 5, 6, 1, 7, 8, 9, 10]\n"
     ]
    }
   ],
   "source": [
    "#word-level one-hot encoding\n",
    "import numpy as np\n",
    "samples = [\"The cat sat on the mat.\", \"The dog ate my homework.\"]\n",
    "token_index = {}\n",
    "\n",
    "for sample in samples:\n",
    "    for word in sample.split():\n",
    "        if word not in token_index:\n",
    "            token_index[word] = len(token_index) + 1\n",
    "\n",
    "max_length = 10\n",
    "results = np.zeros(shape=(len(samples), max_length, max(token_index.values()) + 1))\n",
    "k = []\n",
    "\n",
    "for i, sample in enumerate(samples):\n",
    "    for j, word in list(enumerate(sample.split()))[:max_length]:\n",
    "        index = token_index.get(word)\n",
    "        k.append(index)\n",
    "        results[i, j, index] = 1.\n",
    "print(k)"
   ]
  },
  {
   "cell_type": "code",
   "execution_count": 3,
   "metadata": {},
   "outputs": [
    {
     "name": "stdout",
     "output_type": "stream",
     "text": [
      "[56, 18, 15, 13, 11, 30, 29, 11, 30, 25, 24, 30, 18, 15, 23, 11, 30, 76, 56, 18, 15, 14, 25, 17, 11, 30, 15, 23, 35, 18, 25, 23, 15, 33, 25, 28, 21, 76]\n"
     ]
    }
   ],
   "source": [
    "#character-level one-hot encoding\n",
    "import string\n",
    "import numpy as np\n",
    "samples = [\"The cat sat on the mat.\", \"The dog ate my homework.\"]\n",
    "characters = string.printable\n",
    "token_index = dict(zip(characters, range(1, len(characters) + 1)))\n",
    "\n",
    "max_length = 50\n",
    "results = np.zeros(shape=(len(samples), max_length, max(token_index.values()) + 1))\n",
    "k = []\n",
    "\n",
    "for i, sample in enumerate(samples):\n",
    "    for j, word in list(enumerate(sample.split()))[:max_length]:\n",
    "        for character in word:\n",
    "            index = token_index.get(character)\n",
    "            k.append(index)\n",
    "            results[i, j, index] = 1.\n",
    "print(k)"
   ]
  },
  {
   "cell_type": "code",
   "execution_count": 4,
   "metadata": {},
   "outputs": [
    {
     "name": "stdout",
     "output_type": "stream",
     "text": [
      "Found 9 unique tokens.\n"
     ]
    },
    {
     "name": "stderr",
     "output_type": "stream",
     "text": [
      "Using TensorFlow backend.\n"
     ]
    }
   ],
   "source": [
    "#one-hot encoding with Tokenizer\n",
    "from keras.preprocessing.text import Tokenizer\n",
    "samples = [\"The cat sat on the mat.\", \"The dog ate my homework.\"]\n",
    "tokenizer = Tokenizer(num_words=1000)\n",
    "tokenizer.fit_on_texts(samples)\n",
    "sequences = tokenizer.texts_to_sequences(samples)\n",
    "one_hot_results = tokenizer.texts_to_matrix(samples, mode='binary')\n",
    "word_index = tokenizer.word_index\n",
    "print('Found %s unique tokens.' % len(word_index))"
   ]
  },
  {
   "cell_type": "code",
   "execution_count": 5,
   "metadata": {},
   "outputs": [
    {
     "data": {
      "text/plain": [
       "array([[4, 1, 5],\n",
       "       [7, 8, 9]], dtype=int32)"
      ]
     },
     "execution_count": 5,
     "metadata": {},
     "output_type": "execute_result"
    }
   ],
   "source": [
    "from keras.preprocessing.sequence import pad_sequences\n",
    "pad_sequences(sequences, 3)"
   ]
  },
  {
   "cell_type": "code",
   "execution_count": 6,
   "metadata": {},
   "outputs": [],
   "source": [
    "#one-hot encoding with hashing\n",
    "samples = ['The cat sat on the mat.', 'The dog ate my homework.']\n",
    "dimensionality = 1000\n",
    "max_length = 10\n",
    "results = np.zeros((len(samples), max_length, dimensionality))\n",
    "for i, sample in enumerate(samples):\n",
    "    for j, word in list(enumerate(sample.split()))[:max_length]:\n",
    "        index = abs(hash(word)) % dimensionality\n",
    "        results[i, j, index] = 1."
   ]
  },
  {
   "cell_type": "code",
   "execution_count": 8,
   "metadata": {},
   "outputs": [
    {
     "name": "stderr",
     "output_type": "stream",
     "text": [
      "/home/ashutosh/anaconda3/envs/PythonGPU/lib/python3.7/site-packages/tensorflow_core/python/framework/indexed_slices.py:433: UserWarning: Converting sparse IndexedSlices to a dense Tensor of unknown shape. This may consume a large amount of memory.\n",
      "  \"Converting sparse IndexedSlices to a dense Tensor of unknown shape. \"\n"
     ]
    },
    {
     "name": "stdout",
     "output_type": "stream",
     "text": [
      "Train on 20000 samples, validate on 5000 samples\n",
      "Epoch 1/10\n",
      "20000/20000 [==============================] - 38s 2ms/step - loss: 0.6404 - acc: 0.6174 - val_loss: 0.5329 - val_acc: 0.7624\n",
      "Epoch 2/10\n",
      "20000/20000 [==============================] - 36s 2ms/step - loss: 0.3996 - acc: 0.8296 - val_loss: 0.4810 - val_acc: 0.7776\n",
      "Epoch 3/10\n",
      "20000/20000 [==============================] - 36s 2ms/step - loss: 0.2938 - acc: 0.8830 - val_loss: 0.3815 - val_acc: 0.8482\n",
      "Epoch 4/10\n",
      "20000/20000 [==============================] - 35s 2ms/step - loss: 0.2406 - acc: 0.9063 - val_loss: 0.3934 - val_acc: 0.8320\n",
      "Epoch 5/10\n",
      "20000/20000 [==============================] - 35s 2ms/step - loss: 0.1820 - acc: 0.9327 - val_loss: 0.3812 - val_acc: 0.8424\n",
      "Epoch 6/10\n",
      "20000/20000 [==============================] - 35s 2ms/step - loss: 0.1562 - acc: 0.9455 - val_loss: 0.4032 - val_acc: 0.8520\n",
      "Epoch 7/10\n",
      "20000/20000 [==============================] - 36s 2ms/step - loss: 0.0892 - acc: 0.9710 - val_loss: 0.4166 - val_acc: 0.8476\n",
      "Epoch 8/10\n",
      "20000/20000 [==============================] - 39s 2ms/step - loss: 0.0618 - acc: 0.9808 - val_loss: 0.4887 - val_acc: 0.8582\n",
      "Epoch 9/10\n",
      "20000/20000 [==============================] - 36s 2ms/step - loss: 0.0394 - acc: 0.9886 - val_loss: 0.6346 - val_acc: 0.8384\n",
      "Epoch 10/10\n",
      "20000/20000 [==============================] - 35s 2ms/step - loss: 0.0279 - acc: 0.9923 - val_loss: 0.5873 - val_acc: 0.8332\n"
     ]
    }
   ],
   "source": [
    "from keras.datasets import imdb\n",
    "from keras.preprocessing import sequence\n",
    "from keras.models import Sequential\n",
    "from keras.layers import Dense, Embedding, SimpleRNN\n",
    "\n",
    "(train_data, train_label), (test_data, test_label) = imdb.load_data(num_words=10000)\n",
    "train_data = sequence.pad_sequences(train_data, 500)\n",
    "test_data = sequence.pad_sequences(test_data, 500)\n",
    "model = Sequential()\n",
    "model.add(Embedding(10000, 32))\n",
    "model.add(SimpleRNN(32))\n",
    "model.add(Dense(1, activation='sigmoid'))\n",
    "model.compile(optimizer='rmsprop', loss='binary_crossentropy', metrics=['acc'])\n",
    "history = model.fit(train_data, train_label,\n",
    "                    epochs=10,\n",
    "                    batch_size=128,\n",
    "                    validation_split=0.2)"
   ]
  },
  {
   "cell_type": "code",
   "execution_count": 10,
   "metadata": {},
   "outputs": [
    {
     "name": "stderr",
     "output_type": "stream",
     "text": [
      "/home/ashutosh/anaconda3/envs/PythonGPU/lib/python3.7/site-packages/tensorflow_core/python/framework/indexed_slices.py:433: UserWarning: Converting sparse IndexedSlices to a dense Tensor of unknown shape. This may consume a large amount of memory.\n",
      "  \"Converting sparse IndexedSlices to a dense Tensor of unknown shape. \"\n"
     ]
    },
    {
     "name": "stdout",
     "output_type": "stream",
     "text": [
      "Train on 20000 samples, validate on 5000 samples\n",
      "Epoch 1/10\n",
      "20000/20000 [==============================] - 57s 3ms/step - loss: 0.5060 - acc: 0.7603 - val_loss: 0.4033 - val_acc: 0.8322\n",
      "Epoch 2/10\n",
      "20000/20000 [==============================] - 56s 3ms/step - loss: 0.3079 - acc: 0.8801 - val_loss: 0.2945 - val_acc: 0.8796\n",
      "Epoch 3/10\n",
      "20000/20000 [==============================] - 57s 3ms/step - loss: 0.2328 - acc: 0.9121 - val_loss: 0.3603 - val_acc: 0.8446\n",
      "Epoch 4/10\n",
      "20000/20000 [==============================] - 63s 3ms/step - loss: 0.2022 - acc: 0.9254 - val_loss: 0.3014 - val_acc: 0.8740\n",
      "Epoch 5/10\n",
      "20000/20000 [==============================] - 79s 4ms/step - loss: 0.1789 - acc: 0.9351 - val_loss: 0.2840 - val_acc: 0.8814\n",
      "Epoch 6/10\n",
      "20000/20000 [==============================] - 76s 4ms/step - loss: 0.1551 - acc: 0.9460 - val_loss: 0.3027 - val_acc: 0.8860\n",
      "Epoch 7/10\n",
      "20000/20000 [==============================] - 62s 3ms/step - loss: 0.1417 - acc: 0.9495 - val_loss: 0.3668 - val_acc: 0.8880\n",
      "Epoch 8/10\n",
      "20000/20000 [==============================] - 64s 3ms/step - loss: 0.1341 - acc: 0.9534 - val_loss: 0.3085 - val_acc: 0.8764\n",
      "Epoch 9/10\n",
      "20000/20000 [==============================] - 76s 4ms/step - loss: 0.1219 - acc: 0.9572 - val_loss: 0.3514 - val_acc: 0.8554\n",
      "Epoch 10/10\n",
      "20000/20000 [==============================] - 69s 3ms/step - loss: 0.1066 - acc: 0.9649 - val_loss: 0.3635 - val_acc: 0.8838\n"
     ]
    }
   ],
   "source": [
    "from keras.datasets import imdb\n",
    "from keras.preprocessing import sequence\n",
    "from keras.models import Sequential\n",
    "from keras.layers import Dense, Embedding, LSTM\n",
    "\n",
    "(train_data, train_label), (test_data, test_label) = imdb.load_data(num_words=10000)\n",
    "train_data = sequence.pad_sequences(train_data, 500)\n",
    "test_data = sequence.pad_sequences(test_data, 500)\n",
    "model = Sequential()\n",
    "model.add(Embedding(10000, 32))\n",
    "model.add(LSTM(32))\n",
    "model.add(Dense(1, activation='sigmoid'))\n",
    "model.compile(optimizer='rmsprop', loss='binary_crossentropy', metrics=['acc'])\n",
    "history = model.fit(train_data, train_label,\n",
    "                    epochs=10,\n",
    "                    batch_size=128,\n",
    "                    validation_split=0.2)"
   ]
  },
  {
   "cell_type": "code",
   "execution_count": 11,
   "metadata": {},
   "outputs": [
    {
     "data": {
      "image/png": "[encoded data removed]",
      "text/plain": [
       "<Figure size 432x288 with 1 Axes>"
      ]
     },
     "metadata": {
      "needs_background": "light"
     },
     "output_type": "display_data"
    },
    {
     "data": {
      "image/png": "[encoded data removed]",
      "text/plain": [
       "<Figure size 432x288 with 1 Axes>"
      ]
     },
     "metadata": {
      "needs_background": "light"
     },
     "output_type": "display_data"
    }
   ],
   "source": [
    "import matplotlib.pyplot as plt\n",
    "acc = history.history['acc']\n",
    "val_acc = history.history['val_acc']\n",
    "loss = history.history['loss']\n",
    "val_loss = history.history['val_loss']\n",
    "epochs = range(1, len(acc) + 1)\n",
    "plt.plot(epochs, acc, 'bo', label='Training acc')\n",
    "plt.plot(epochs, val_acc, 'b', label='Validation acc')\n",
    "plt.title('Training and validation accuracy')\n",
    "plt.legend()\n",
    "plt.figure()\n",
    "plt.plot(epochs, loss, 'bo', label='Training loss')\n",
    "plt.plot(epochs, val_loss, 'b', label='Validation loss')\n",
    "plt.title('Training and validation loss')\n",
    "plt.legend()\n",
    "plt.show()"
   ]
  },
  {
   "cell_type": "code",
   "execution_count": 2,
   "metadata": {},
   "outputs": [
    {
     "name": "stdout",
     "output_type": "stream",
     "text": [
      "['\"Date Time\"', '\"p (mbar)\"', '\"T (degC)\"', '\"Tpot (K)\"', '\"Tdew (degC)\"', '\"rh (%)\"', '\"VPmax (mbar)\"', '\"VPact (mbar)\"', '\"VPdef (mbar)\"', '\"sh (g/kg)\"', '\"H2OC (mmol/mol)\"', '\"rho (g/m**3)\"', '\"wv (m/s)\"', '\"max. wv (m/s)\"', '\"wd (deg)\"']\n",
      "420551\n"
     ]
    }
   ],
   "source": [
    "import os\n",
    "data_dir = '/home/ashutosh/Downloads'\n",
    "fname = os.path.join(data_dir, 'jena_climate_2009_2016.csv')\n",
    "\n",
    "f = open(fname)\n",
    "data = f.read()\n",
    "f.close()\n",
    "\n",
    "lines = data.split('\\n')\n",
    "header = lines[0].split(',')\n",
    "lines = lines[1:]\n",
    "\n",
    "print(header)\n",
    "print(len(lines))"
   ]
  },
  {
   "cell_type": "code",
   "execution_count": 3,
   "metadata": {},
   "outputs": [],
   "source": [
    "import numpy as np\n",
    "float_data = np.zeros((len(lines), len(header) - 1))\n",
    "for i, line in enumerate(lines):\n",
    "    float_data[i] = [float(x) for x in line.split(',')[1:]]"
   ]
  },
  {
   "cell_type": "code",
   "execution_count": 4,
   "metadata": {},
   "outputs": [
    {
     "data": {
      "text/plain": [
       "420551"
      ]
     },
     "execution_count": 4,
     "metadata": {},
     "output_type": "execute_result"
    }
   ],
   "source": [
    "len(float_data)"
   ]
  },
  {
   "cell_type": "code",
   "execution_count": 48,
   "metadata": {},
   "outputs": [
    {
     "data": {
      "image/png": "[encoded data removed]",
      "text/plain": [
       "<Figure size 432x288 with 1 Axes>"
      ]
     },
     "metadata": {
      "needs_background": "light"
     },
     "output_type": "display_data"
    }
   ],
   "source": [
    "import matplotlib.pyplot as plt\n",
    "\n",
    "plt.plot(range(288), float_data[-288:, 1], color='red')\n",
    "plt.xlabel('Time')\n",
    "plt.ylabel('Temperature in deg C')\n",
    "plt.show()"
   ]
  },
  {
   "cell_type": "code",
   "execution_count": 4,
   "metadata": {},
   "outputs": [],
   "source": [
    "mean = np.mean(float_data, axis=0)[1]\n",
    "std = np.std(float_data, axis=0)[1]\n",
    "float_data = (float_data - np.mean(float_data, axis=0, keepdims=True)) / np.std(float_data, axis=0)"
   ]
  },
  {
   "cell_type": "code",
   "execution_count": 5,
   "metadata": {},
   "outputs": [
    {
     "name": "stdout",
     "output_type": "stream",
     "text": [
      "9.450147354304178\n"
     ]
    },
    {
     "data": {
      "text/plain": [
       "8.42335519570272"
      ]
     },
     "execution_count": 5,
     "metadata": {},
     "output_type": "execute_result"
    }
   ],
   "source": [
    "print(mean)\n",
    "std"
   ]
  },
  {
   "cell_type": "code",
   "execution_count": 14,
   "metadata": {},
   "outputs": [],
   "source": [
    "def generator(data, lookback, delay, min_index, max_index,\n",
    "            shuffle=False, batch_size=256, step=6):\n",
    "    if max_index is None:\n",
    "        max_index = len(data) - delay - 1\n",
    "    i = min_index + lookback\n",
    "    while 1:\n",
    "        if shuffle:\n",
    "            rows = np.random.randint(min_index + lookback, max_index, size=batch_size)\n",
    "        else:\n",
    "            if i + batch_size >= max_index:\n",
    "                i = min_index + lookback\n",
    "            rows = np.arange(i, min(i + batch_size, max_index))\n",
    "            i += len(rows)\n",
    "        samples = np.zeros((len(rows),\n",
    "                            lookback // step,\n",
    "                            data.shape[-1]))\n",
    "        targets = np.zeros((len(rows),))\n",
    "        for j, row in enumerate(rows):\n",
    "            indices = range(rows[j] - lookback, rows[j], step)\n",
    "            samples[j] = data[indices]\n",
    "            targets[j] = data[rows[j] + delay][1]\n",
    "        yield samples, targets"
   ]
  },
  {
   "cell_type": "code",
   "execution_count": 15,
   "metadata": {},
   "outputs": [],
   "source": [
    "lookback = 1440\n",
    "step = 6\n",
    "delay = 144\n",
    "batch_size = 256\n",
    "\n",
    "train_gen = generator(float_data,\n",
    "                    lookback=lookback,\n",
    "                    delay=delay,\n",
    "                    min_index=0,\n",
    "                    max_index=200000,\n",
    "                    shuffle=True,\n",
    "                    step=step,\n",
    "                    batch_size=batch_size)\n",
    "val_gen = generator(float_data,\n",
    "                    lookback=lookback,\n",
    "                    delay=delay,\n",
    "                    min_index=200001,\n",
    "                    max_index=300000,\n",
    "                    shuffle=True,\n",
    "                    step=step,\n",
    "                    batch_size=batch_size)\n",
    "test_gen = generator(float_data,\n",
    "                    lookback=lookback,\n",
    "                    delay=delay,\n",
    "                    min_index=300001,\n",
    "                    max_index=None,\n",
    "                    step=step,\n",
    "                    batch_size=batch_size)\n",
    "val_steps = (300000 - 200001 - lookback) // 256\n",
    "test_steps = (len(float_data) - 300001 - lookback) // 256"
   ]
  },
  {
   "cell_type": "code",
   "execution_count": 19,
   "metadata": {
    "scrolled": true
   },
   "outputs": [
    {
     "name": "stdout",
     "output_type": "stream",
     "text": [
      "Epoch 1/20\n",
      "500/500 [==============================] - 15s 29ms/step - loss: 4.2627 - accuracy: 0.0000e+00 - val_loss: 0.2213 - val_accuracy: 0.0000e+00\n",
      "Epoch 2/20\n",
      "500/500 [==============================] - 15s 29ms/step - loss: 0.8226 - accuracy: 0.0000e+00 - val_loss: 0.1648 - val_accuracy: 0.0000e+00\n",
      "Epoch 3/20\n",
      "121/500 [======>.......................] - ETA: 7s - loss: 0.3015 - accuracy: 0.0000e+00"
     ]
    },
    {
     "ename": "KeyboardInterrupt",
     "evalue": "",
     "output_type": "error",
     "traceback": [
      "\u001b[0;31m---------------------------------------------------------------------------\u001b[0m",
      "\u001b[0;31mKeyboardInterrupt\u001b[0m                         Traceback (most recent call last)",
      "\u001b[0;32m<ipython-input-19-e426b4b1afd2>\u001b[0m in \u001b[0;36m<module>\u001b[0;34m\u001b[0m\n\u001b[1;32m     12\u001b[0m                             \u001b[0mepochs\u001b[0m\u001b[0;34m=\u001b[0m\u001b[0;36m20\u001b[0m\u001b[0;34m,\u001b[0m\u001b[0;34m\u001b[0m\u001b[0;34m\u001b[0m\u001b[0m\n\u001b[1;32m     13\u001b[0m                             \u001b[0mvalidation_data\u001b[0m\u001b[0;34m=\u001b[0m\u001b[0mval_gen\u001b[0m\u001b[0;34m,\u001b[0m\u001b[0;34m\u001b[0m\u001b[0;34m\u001b[0m\u001b[0m\n\u001b[0;32m---> 14\u001b[0;31m                             validation_steps=val_steps)\n\u001b[0m",
      "\u001b[0;32m~/anaconda3/envs/PythonGPU/lib/python3.7/site-packages/keras/legacy/interfaces.py\u001b[0m in \u001b[0;36mwrapper\u001b[0;34m(*args, **kwargs)\u001b[0m\n\u001b[1;32m     89\u001b[0m                 warnings.warn('Update your `' + object_name + '` call to the ' +\n\u001b[1;32m     90\u001b[0m                               'Keras 2 API: ' + signature, stacklevel=2)\n\u001b[0;32m---> 91\u001b[0;31m             \u001b[0;32mreturn\u001b[0m \u001b[0mfunc\u001b[0m\u001b[0;34m(\u001b[0m\u001b[0;34m*\u001b[0m\u001b[0margs\u001b[0m\u001b[0;34m,\u001b[0m \u001b[0;34m**\u001b[0m\u001b[0mkwargs\u001b[0m\u001b[0;34m)\u001b[0m\u001b[0;34m\u001b[0m\u001b[0;34m\u001b[0m\u001b[0m\n\u001b[0m\u001b[1;32m     92\u001b[0m         \u001b[0mwrapper\u001b[0m\u001b[0;34m.\u001b[0m\u001b[0m_original_function\u001b[0m \u001b[0;34m=\u001b[0m \u001b[0mfunc\u001b[0m\u001b[0;34m\u001b[0m\u001b[0;34m\u001b[0m\u001b[0m\n\u001b[1;32m     93\u001b[0m         \u001b[0;32mreturn\u001b[0m \u001b[0mwrapper\u001b[0m\u001b[0;34m\u001b[0m\u001b[0;34m\u001b[0m\u001b[0m\n",
      "\u001b[0;32m~/anaconda3/envs/PythonGPU/lib/python3.7/site-packages/keras/engine/training.py\u001b[0m in \u001b[0;36mfit_generator\u001b[0;34m(self, generator, steps_per_epoch, epochs, verbose, callbacks, validation_data, validation_steps, validation_freq, class_weight, max_queue_size, workers, use_multiprocessing, shuffle, initial_epoch)\u001b[0m\n\u001b[1;32m   1730\u001b[0m             \u001b[0muse_multiprocessing\u001b[0m\u001b[0;34m=\u001b[0m\u001b[0muse_multiprocessing\u001b[0m\u001b[0;34m,\u001b[0m\u001b[0;34m\u001b[0m\u001b[0;34m\u001b[0m\u001b[0m\n\u001b[1;32m   1731\u001b[0m             \u001b[0mshuffle\u001b[0m\u001b[0;34m=\u001b[0m\u001b[0mshuffle\u001b[0m\u001b[0;34m,\u001b[0m\u001b[0;34m\u001b[0m\u001b[0;34m\u001b[0m\u001b[0m\n\u001b[0;32m-> 1732\u001b[0;31m             initial_epoch=initial_epoch)\n\u001b[0m\u001b[1;32m   1733\u001b[0m \u001b[0;34m\u001b[0m\u001b[0m\n\u001b[1;32m   1734\u001b[0m     \u001b[0;34m@\u001b[0m\u001b[0minterfaces\u001b[0m\u001b[0;34m.\u001b[0m\u001b[0mlegacy_generator_methods_support\u001b[0m\u001b[0;34m\u001b[0m\u001b[0;34m\u001b[0m\u001b[0m\n",
      "\u001b[0;32m~/anaconda3/envs/PythonGPU/lib/python3.7/site-packages/keras/engine/training_generator.py\u001b[0m in \u001b[0;36mfit_generator\u001b[0;34m(model, generator, steps_per_epoch, epochs, verbose, callbacks, validation_data, validation_steps, validation_freq, class_weight, max_queue_size, workers, use_multiprocessing, shuffle, initial_epoch)\u001b[0m\n\u001b[1;32m    183\u001b[0m             \u001b[0mbatch_index\u001b[0m \u001b[0;34m=\u001b[0m \u001b[0;36m0\u001b[0m\u001b[0;34m\u001b[0m\u001b[0;34m\u001b[0m\u001b[0m\n\u001b[1;32m    184\u001b[0m             \u001b[0;32mwhile\u001b[0m \u001b[0msteps_done\u001b[0m \u001b[0;34m<\u001b[0m \u001b[0msteps_per_epoch\u001b[0m\u001b[0;34m:\u001b[0m\u001b[0;34m\u001b[0m\u001b[0;34m\u001b[0m\u001b[0m\n\u001b[0;32m--> 185\u001b[0;31m                 \u001b[0mgenerator_output\u001b[0m \u001b[0;34m=\u001b[0m \u001b[0mnext\u001b[0m\u001b[0;34m(\u001b[0m\u001b[0moutput_generator\u001b[0m\u001b[0;34m)\u001b[0m\u001b[0;34m\u001b[0m\u001b[0;34m\u001b[0m\u001b[0m\n\u001b[0m\u001b[1;32m    186\u001b[0m \u001b[0;34m\u001b[0m\u001b[0m\n\u001b[1;32m    187\u001b[0m                 \u001b[0;32mif\u001b[0m \u001b[0;32mnot\u001b[0m \u001b[0mhasattr\u001b[0m\u001b[0;34m(\u001b[0m\u001b[0mgenerator_output\u001b[0m\u001b[0;34m,\u001b[0m \u001b[0;34m'__len__'\u001b[0m\u001b[0;34m)\u001b[0m\u001b[0;34m:\u001b[0m\u001b[0;34m\u001b[0m\u001b[0;34m\u001b[0m\u001b[0m\n",
      "\u001b[0;32m~/anaconda3/envs/PythonGPU/lib/python3.7/site-packages/keras/utils/data_utils.py\u001b[0m in \u001b[0;36mget\u001b[0;34m(self)\u001b[0m\n\u001b[1;32m    709\u001b[0m                 \u001b[0;32mtry\u001b[0m\u001b[0;34m:\u001b[0m\u001b[0;34m\u001b[0m\u001b[0;34m\u001b[0m\u001b[0m\n\u001b[1;32m    710\u001b[0m                     \u001b[0mfuture\u001b[0m \u001b[0;34m=\u001b[0m \u001b[0mself\u001b[0m\u001b[0;34m.\u001b[0m\u001b[0mqueue\u001b[0m\u001b[0;34m.\u001b[0m\u001b[0mget\u001b[0m\u001b[0;34m(\u001b[0m\u001b[0mblock\u001b[0m\u001b[0;34m=\u001b[0m\u001b[0;32mTrue\u001b[0m\u001b[0;34m)\u001b[0m\u001b[0;34m\u001b[0m\u001b[0;34m\u001b[0m\u001b[0m\n\u001b[0;32m--> 711\u001b[0;31m                     \u001b[0minputs\u001b[0m \u001b[0;34m=\u001b[0m \u001b[0mfuture\u001b[0m\u001b[0;34m.\u001b[0m\u001b[0mget\u001b[0m\u001b[0;34m(\u001b[0m\u001b[0mtimeout\u001b[0m\u001b[0;34m=\u001b[0m\u001b[0;36m30\u001b[0m\u001b[0;34m)\u001b[0m\u001b[0;34m\u001b[0m\u001b[0;34m\u001b[0m\u001b[0m\n\u001b[0m\u001b[1;32m    712\u001b[0m                     \u001b[0mself\u001b[0m\u001b[0;34m.\u001b[0m\u001b[0mqueue\u001b[0m\u001b[0;34m.\u001b[0m\u001b[0mtask_done\u001b[0m\u001b[0;34m(\u001b[0m\u001b[0;34m)\u001b[0m\u001b[0;34m\u001b[0m\u001b[0;34m\u001b[0m\u001b[0m\n\u001b[1;32m    713\u001b[0m                 \u001b[0;32mexcept\u001b[0m \u001b[0mmp\u001b[0m\u001b[0;34m.\u001b[0m\u001b[0mTimeoutError\u001b[0m\u001b[0;34m:\u001b[0m\u001b[0;34m\u001b[0m\u001b[0;34m\u001b[0m\u001b[0m\n",
      "\u001b[0;32m~/anaconda3/envs/PythonGPU/lib/python3.7/multiprocessing/pool.py\u001b[0m in \u001b[0;36mget\u001b[0;34m(self, timeout)\u001b[0m\n\u001b[1;32m    649\u001b[0m \u001b[0;34m\u001b[0m\u001b[0m\n\u001b[1;32m    650\u001b[0m     \u001b[0;32mdef\u001b[0m \u001b[0mget\u001b[0m\u001b[0;34m(\u001b[0m\u001b[0mself\u001b[0m\u001b[0;34m,\u001b[0m \u001b[0mtimeout\u001b[0m\u001b[0;34m=\u001b[0m\u001b[0;32mNone\u001b[0m\u001b[0;34m)\u001b[0m\u001b[0;34m:\u001b[0m\u001b[0;34m\u001b[0m\u001b[0;34m\u001b[0m\u001b[0m\n\u001b[0;32m--> 651\u001b[0;31m         \u001b[0mself\u001b[0m\u001b[0;34m.\u001b[0m\u001b[0mwait\u001b[0m\u001b[0;34m(\u001b[0m\u001b[0mtimeout\u001b[0m\u001b[0;34m)\u001b[0m\u001b[0;34m\u001b[0m\u001b[0;34m\u001b[0m\u001b[0m\n\u001b[0m\u001b[1;32m    652\u001b[0m         \u001b[0;32mif\u001b[0m \u001b[0;32mnot\u001b[0m \u001b[0mself\u001b[0m\u001b[0;34m.\u001b[0m\u001b[0mready\u001b[0m\u001b[0;34m(\u001b[0m\u001b[0;34m)\u001b[0m\u001b[0;34m:\u001b[0m\u001b[0;34m\u001b[0m\u001b[0;34m\u001b[0m\u001b[0m\n\u001b[1;32m    653\u001b[0m             \u001b[0;32mraise\u001b[0m \u001b[0mTimeoutError\u001b[0m\u001b[0;34m\u001b[0m\u001b[0;34m\u001b[0m\u001b[0m\n",
      "\u001b[0;32m~/anaconda3/envs/PythonGPU/lib/python3.7/multiprocessing/pool.py\u001b[0m in \u001b[0;36mwait\u001b[0;34m(self, timeout)\u001b[0m\n\u001b[1;32m    646\u001b[0m \u001b[0;34m\u001b[0m\u001b[0m\n\u001b[1;32m    647\u001b[0m     \u001b[0;32mdef\u001b[0m \u001b[0mwait\u001b[0m\u001b[0;34m(\u001b[0m\u001b[0mself\u001b[0m\u001b[0;34m,\u001b[0m \u001b[0mtimeout\u001b[0m\u001b[0;34m=\u001b[0m\u001b[0;32mNone\u001b[0m\u001b[0;34m)\u001b[0m\u001b[0;34m:\u001b[0m\u001b[0;34m\u001b[0m\u001b[0;34m\u001b[0m\u001b[0m\n\u001b[0;32m--> 648\u001b[0;31m         \u001b[0mself\u001b[0m\u001b[0;34m.\u001b[0m\u001b[0m_event\u001b[0m\u001b[0;34m.\u001b[0m\u001b[0mwait\u001b[0m\u001b[0;34m(\u001b[0m\u001b[0mtimeout\u001b[0m\u001b[0;34m)\u001b[0m\u001b[0;34m\u001b[0m\u001b[0;34m\u001b[0m\u001b[0m\n\u001b[0m\u001b[1;32m    649\u001b[0m \u001b[0;34m\u001b[0m\u001b[0m\n\u001b[1;32m    650\u001b[0m     \u001b[0;32mdef\u001b[0m \u001b[0mget\u001b[0m\u001b[0;34m(\u001b[0m\u001b[0mself\u001b[0m\u001b[0;34m,\u001b[0m \u001b[0mtimeout\u001b[0m\u001b[0;34m=\u001b[0m\u001b[0;32mNone\u001b[0m\u001b[0;34m)\u001b[0m\u001b[0;34m:\u001b[0m\u001b[0;34m\u001b[0m\u001b[0;34m\u001b[0m\u001b[0m\n",
      "\u001b[0;32m~/anaconda3/envs/PythonGPU/lib/python3.7/threading.py\u001b[0m in \u001b[0;36mwait\u001b[0;34m(self, timeout)\u001b[0m\n\u001b[1;32m    550\u001b[0m             \u001b[0msignaled\u001b[0m \u001b[0;34m=\u001b[0m \u001b[0mself\u001b[0m\u001b[0;34m.\u001b[0m\u001b[0m_flag\u001b[0m\u001b[0;34m\u001b[0m\u001b[0;34m\u001b[0m\u001b[0m\n\u001b[1;32m    551\u001b[0m             \u001b[0;32mif\u001b[0m \u001b[0;32mnot\u001b[0m \u001b[0msignaled\u001b[0m\u001b[0;34m:\u001b[0m\u001b[0;34m\u001b[0m\u001b[0;34m\u001b[0m\u001b[0m\n\u001b[0;32m--> 552\u001b[0;31m                 \u001b[0msignaled\u001b[0m \u001b[0;34m=\u001b[0m \u001b[0mself\u001b[0m\u001b[0;34m.\u001b[0m\u001b[0m_cond\u001b[0m\u001b[0;34m.\u001b[0m\u001b[0mwait\u001b[0m\u001b[0;34m(\u001b[0m\u001b[0mtimeout\u001b[0m\u001b[0;34m)\u001b[0m\u001b[0;34m\u001b[0m\u001b[0;34m\u001b[0m\u001b[0m\n\u001b[0m\u001b[1;32m    553\u001b[0m             \u001b[0;32mreturn\u001b[0m \u001b[0msignaled\u001b[0m\u001b[0;34m\u001b[0m\u001b[0;34m\u001b[0m\u001b[0m\n\u001b[1;32m    554\u001b[0m \u001b[0;34m\u001b[0m\u001b[0m\n",
      "\u001b[0;32m~/anaconda3/envs/PythonGPU/lib/python3.7/threading.py\u001b[0m in \u001b[0;36mwait\u001b[0;34m(self, timeout)\u001b[0m\n\u001b[1;32m    298\u001b[0m             \u001b[0;32melse\u001b[0m\u001b[0;34m:\u001b[0m\u001b[0;34m\u001b[0m\u001b[0;34m\u001b[0m\u001b[0m\n\u001b[1;32m    299\u001b[0m                 \u001b[0;32mif\u001b[0m \u001b[0mtimeout\u001b[0m \u001b[0;34m>\u001b[0m \u001b[0;36m0\u001b[0m\u001b[0;34m:\u001b[0m\u001b[0;34m\u001b[0m\u001b[0;34m\u001b[0m\u001b[0m\n\u001b[0;32m--> 300\u001b[0;31m                     \u001b[0mgotit\u001b[0m \u001b[0;34m=\u001b[0m \u001b[0mwaiter\u001b[0m\u001b[0;34m.\u001b[0m\u001b[0macquire\u001b[0m\u001b[0;34m(\u001b[0m\u001b[0;32mTrue\u001b[0m\u001b[0;34m,\u001b[0m \u001b[0mtimeout\u001b[0m\u001b[0;34m)\u001b[0m\u001b[0;34m\u001b[0m\u001b[0;34m\u001b[0m\u001b[0m\n\u001b[0m\u001b[1;32m    301\u001b[0m                 \u001b[0;32melse\u001b[0m\u001b[0;34m:\u001b[0m\u001b[0;34m\u001b[0m\u001b[0;34m\u001b[0m\u001b[0m\n\u001b[1;32m    302\u001b[0m                     \u001b[0mgotit\u001b[0m \u001b[0;34m=\u001b[0m \u001b[0mwaiter\u001b[0m\u001b[0;34m.\u001b[0m\u001b[0macquire\u001b[0m\u001b[0;34m(\u001b[0m\u001b[0;32mFalse\u001b[0m\u001b[0;34m)\u001b[0m\u001b[0;34m\u001b[0m\u001b[0;34m\u001b[0m\u001b[0m\n",
      "\u001b[0;31mKeyboardInterrupt\u001b[0m: "
     ]
    }
   ],
   "source": [
    "from keras.models import Sequential\n",
    "from keras import layers\n",
    "from keras.optimizers import RMSprop\n",
    "model = Sequential()\n",
    "model.add(layers.Flatten(input_shape=(lookback // step, float_data.shape[-1])))\n",
    "model.add(layers.Dense(32, activation='relu'))\n",
    "model.add(layers.Dense(1))\n",
    "\n",
    "model.compile(optimizer=RMSprop(), loss='mae')\n",
    "history = model.fit_generator(train_gen,\n",
    "                            steps_per_epoch=500,\n",
    "                            epochs=20,\n",
    "                            validation_data=val_gen,\n",
    "                            validation_steps=val_steps)"
   ]
  },
  {
   "cell_type": "code",
   "execution_count": 10,
   "metadata": {},
   "outputs": [
    {
     "data": {
      "image/png": "[encoded data removed]",
      "text/plain": [
       "<Figure size 432x288 with 1 Axes>"
      ]
     },
     "metadata": {
      "needs_background": "light"
     },
     "output_type": "display_data"
    }
   ],
   "source": [
    "import matplotlib.pyplot as plt\n",
    "loss = history.history['loss']\n",
    "val_loss = history.history['val_loss']\n",
    "epochs = range(1, len(loss) + 1)\n",
    "plt.figure()\n",
    "plt.plot(epochs, loss, 'bo', label='Training loss')\n",
    "plt.plot(epochs, val_loss, 'b', label='Validation loss')\n",
    "plt.title('Training and validation loss')\n",
    "plt.ylim(0.15, 0.8)\n",
    "plt.legend()\n",
    "plt.show()"
   ]
  },
  {
   "cell_type": "code",
   "execution_count": 13,
   "metadata": {},
   "outputs": [
    {
     "data": {
      "text/plain": [
       "(420551, 14)"
      ]
     },
     "execution_count": 13,
     "metadata": {},
     "output_type": "execute_result"
    }
   ],
   "source": [
    "float_data.shape"
   ]
  },
  {
   "cell_type": "code",
   "execution_count": 15,
   "metadata": {},
   "outputs": [
    {
     "name": "stdout",
     "output_type": "stream",
     "text": [
      "Model: \"sequential_1\"\n",
      "_________________________________________________________________\n",
      "Layer (type)                 Output Shape              Param #   \n",
      "=================================================================\n",
      "flatten_1 (Flatten)          (None, 3360)              0         \n",
      "_________________________________________________________________\n",
      "dense_1 (Dense)              (None, 32)                107552    \n",
      "_________________________________________________________________\n",
      "dense_2 (Dense)              (None, 1)                 33        \n",
      "=================================================================\n",
      "Total params: 107,585\n",
      "Trainable params: 107,585\n",
      "Non-trainable params: 0\n",
      "_________________________________________________________________\n"
     ]
    }
   ],
   "source": [
    "model.summary()"
   ]
  },
  {
   "cell_type": "code",
   "execution_count": 11,
   "metadata": {},
   "outputs": [],
   "source": [
    "tar = []\n",
    "for i in range(144):\n",
    "    tar.append(model.predict(np.expand_dims(float_data[-240-delay+i:-delay+i], axis=0)).reshape(()))"
   ]
  },
  {
   "cell_type": "code",
   "execution_count": 12,
   "metadata": {
    "collapsed": true
   },
   "outputs": [
    {
     "data": {
      "text/plain": [
       "[array(-1.3385576, dtype=float32),\n",
       " array(-1.3692384, dtype=float32),\n",
       " array(-1.3743973, dtype=float32),\n",
       " array(-1.3487097, dtype=float32),\n",
       " array(-1.3081585, dtype=float32),\n",
       " array(-1.245701, dtype=float32),\n",
       " array(-1.1795021, dtype=float32),\n",
       " array(-1.1265008, dtype=float32),\n",
       " array(-1.0780871, dtype=float32),\n",
       " array(-1.0427704, dtype=float32),\n",
       " array(-1.0136709, dtype=float32),\n",
       " array(-0.98866946, dtype=float32),\n",
       " array(-0.95223004, dtype=float32),\n",
       " array(-0.95957434, dtype=float32),\n",
       " array(-0.9409182, dtype=float32),\n",
       " array(-0.9529302, dtype=float32),\n",
       " array(-0.96725017, dtype=float32),\n",
       " array(-0.958059, dtype=float32),\n",
       " array(-0.91178626, dtype=float32),\n",
       " array(-0.88971806, dtype=float32),\n",
       " array(-0.88006604, dtype=float32),\n",
       " array(-0.87881327, dtype=float32),\n",
       " array(-0.8895496, dtype=float32),\n",
       " array(-0.887479, dtype=float32),\n",
       " array(-0.88096434, dtype=float32),\n",
       " array(-0.8839459, dtype=float32),\n",
       " array(-0.8796547, dtype=float32),\n",
       " array(-0.8643851, dtype=float32),\n",
       " array(-0.8339931, dtype=float32),\n",
       " array(-0.8424209, dtype=float32),\n",
       " array(-0.84378237, dtype=float32),\n",
       " array(-0.8354006, dtype=float32),\n",
       " array(-0.8347368, dtype=float32),\n",
       " array(-0.86360055, dtype=float32),\n",
       " array(-0.8900291, dtype=float32),\n",
       " array(-0.8898425, dtype=float32),\n",
       " array(-0.8913636, dtype=float32),\n",
       " array(-0.9169325, dtype=float32),\n",
       " array(-0.95647025, dtype=float32),\n",
       " array(-0.99755484, dtype=float32),\n",
       " array(-1.0105029, dtype=float32),\n",
       " array(-0.98805434, dtype=float32),\n",
       " array(-0.9695733, dtype=float32),\n",
       " array(-0.94744533, dtype=float32),\n",
       " array(-0.9291155, dtype=float32),\n",
       " array(-0.91197497, dtype=float32),\n",
       " array(-0.91496676, dtype=float32),\n",
       " array(-0.91163045, dtype=float32),\n",
       " array(-0.9608614, dtype=float32),\n",
       " array(-0.9817613, dtype=float32),\n",
       " array(-1.0091462, dtype=float32),\n",
       " array(-0.9735858, dtype=float32),\n",
       " array(-0.9606119, dtype=float32),\n",
       " array(-0.91247916, dtype=float32),\n",
       " array(-0.88018817, dtype=float32),\n",
       " array(-0.85128266, dtype=float32),\n",
       " array(-0.82247794, dtype=float32),\n",
       " array(-0.8051699, dtype=float32),\n",
       " array(-0.7856105, dtype=float32),\n",
       " array(-0.7359783, dtype=float32),\n",
       " array(-0.7167196, dtype=float32),\n",
       " array(-0.70595855, dtype=float32),\n",
       " array(-0.684684, dtype=float32),\n",
       " array(-0.715438, dtype=float32),\n",
       " array(-0.71599215, dtype=float32),\n",
       " array(-0.72844595, dtype=float32),\n",
       " array(-0.7335966, dtype=float32),\n",
       " array(-0.72315377, dtype=float32),\n",
       " array(-0.7098932, dtype=float32),\n",
       " array(-0.694907, dtype=float32),\n",
       " array(-0.69421804, dtype=float32),\n",
       " array(-0.6875477, dtype=float32),\n",
       " array(-0.65073764, dtype=float32),\n",
       " array(-0.6345893, dtype=float32),\n",
       " array(-0.6049832, dtype=float32),\n",
       " array(-0.5629286, dtype=float32),\n",
       " array(-0.4965312, dtype=float32),\n",
       " array(-0.46744245, dtype=float32),\n",
       " array(-0.44076052, dtype=float32),\n",
       " array(-0.42625883, dtype=float32),\n",
       " array(-0.371021, dtype=float32),\n",
       " array(-0.34350464, dtype=float32),\n",
       " array(-0.3097373, dtype=float32),\n",
       " array(-0.27487117, dtype=float32),\n",
       " array(-0.28198004, dtype=float32),\n",
       " array(-0.26756722, dtype=float32),\n",
       " array(-0.25041202, dtype=float32),\n",
       " array(-0.21392798, dtype=float32),\n",
       " array(-0.2165449, dtype=float32),\n",
       " array(-0.2151958, dtype=float32),\n",
       " array(-0.1956639, dtype=float32),\n",
       " array(-0.19481707, dtype=float32),\n",
       " array(-0.22992074, dtype=float32),\n",
       " array(-0.26460582, dtype=float32),\n",
       " array(-0.26678777, dtype=float32),\n",
       " array(-0.26677042, dtype=float32),\n",
       " array(-0.2837819, dtype=float32),\n",
       " array(-0.25584692, dtype=float32),\n",
       " array(-0.25347123, dtype=float32),\n",
       " array(-0.25025946, dtype=float32),\n",
       " array(-0.22037497, dtype=float32),\n",
       " array(-0.20645112, dtype=float32),\n",
       " array(-0.23285562, dtype=float32),\n",
       " array(-0.26380202, dtype=float32),\n",
       " array(-0.323409, dtype=float32),\n",
       " array(-0.4083044, dtype=float32),\n",
       " array(-0.45109645, dtype=float32),\n",
       " array(-0.46905866, dtype=float32),\n",
       " array(-0.4454226, dtype=float32),\n",
       " array(-0.49403912, dtype=float32),\n",
       " array(-0.51498955, dtype=float32),\n",
       " array(-0.5365227, dtype=float32),\n",
       " array(-0.55899614, dtype=float32),\n",
       " array(-0.5651637, dtype=float32),\n",
       " array(-0.5615512, dtype=float32),\n",
       " array(-0.59515846, dtype=float32),\n",
       " array(-0.65090525, dtype=float32),\n",
       " array(-0.70104873, dtype=float32),\n",
       " array(-0.72652656, dtype=float32),\n",
       " array(-0.7883826, dtype=float32),\n",
       " array(-0.846237, dtype=float32),\n",
       " array(-0.8679799, dtype=float32),\n",
       " array(-0.8791266, dtype=float32),\n",
       " array(-0.9327796, dtype=float32),\n",
       " array(-0.96839577, dtype=float32),\n",
       " array(-0.9367885, dtype=float32),\n",
       " array(-0.91723984, dtype=float32),\n",
       " array(-0.9376368, dtype=float32),\n",
       " array(-0.9279088, dtype=float32),\n",
       " array(-0.93139184, dtype=float32),\n",
       " array(-0.8896993, dtype=float32),\n",
       " array(-0.90242964, dtype=float32),\n",
       " array(-0.9057071, dtype=float32),\n",
       " array(-0.9729288, dtype=float32),\n",
       " array(-1.0082912, dtype=float32),\n",
       " array(-1.0638288, dtype=float32),\n",
       " array(-1.1138263, dtype=float32),\n",
       " array(-1.1204783, dtype=float32),\n",
       " array(-1.1165059, dtype=float32),\n",
       " array(-1.14833, dtype=float32),\n",
       " array(-1.1414262, dtype=float32),\n",
       " array(-1.11093, dtype=float32),\n",
       " array(-1.1065348, dtype=float32),\n",
       " array(-1.106738, dtype=float32)]"
      ]
     },
     "execution_count": 12,
     "metadata": {},
     "output_type": "execute_result"
    }
   ],
   "source": [
    "tar = tar * np.array(std) + np.array(mean)"
   ]
  },
  {
   "cell_type": "code",
   "execution_count": 13,
   "metadata": {},
   "outputs": [
    {
     "data": {
      "image/png": "[encoded data removed]",
      "text/plain": [
       "<Figure size 432x288 with 1 Axes>"
      ]
     },
     "metadata": {
      "needs_background": "light"
     },
     "output_type": "display_data"
    }
   ],
   "source": [
    "plt.plot(range(144), tar, color='red')\n",
    "plt.xlabel('Time')\n",
    "plt.ylabel('Temperature in deg C')\n",
    "plt.show()"
   ]
  },
  {
   "cell_type": "code",
   "execution_count": 10,
   "metadata": {},
   "outputs": [
    {
     "name": "stdout",
     "output_type": "stream",
     "text": [
      "Epoch 1/20\n",
      "500/500 [==============================] - 110s 219ms/step - loss: 0.3263 - val_loss: 0.2652\n",
      "Epoch 2/20\n",
      "500/500 [==============================] - 108s 216ms/step - loss: 0.3002 - val_loss: 0.2912\n",
      "Epoch 3/20\n",
      "500/500 [==============================] - 109s 217ms/step - loss: 0.2956 - val_loss: 0.2871\n",
      "Epoch 4/20\n",
      "500/500 [==============================] - 109s 218ms/step - loss: 0.2896 - val_loss: 0.2822\n",
      "Epoch 5/20\n",
      "500/500 [==============================] - 109s 218ms/step - loss: 0.2827 - val_loss: 0.3034\n",
      "Epoch 6/20\n",
      "500/500 [==============================] - 108s 217ms/step - loss: 0.2791 - val_loss: 0.2663\n",
      "Epoch 7/20\n",
      "500/500 [==============================] - 109s 217ms/step - loss: 0.2752 - val_loss: 0.2530\n",
      "Epoch 8/20\n",
      "500/500 [==============================] - 109s 217ms/step - loss: 0.2705 - val_loss: 0.2750\n",
      "Epoch 9/20\n",
      "500/500 [==============================] - 108s 217ms/step - loss: 0.2659 - val_loss: 0.2707\n",
      "Epoch 10/20\n",
      "500/500 [==============================] - 109s 217ms/step - loss: 0.2629 - val_loss: 0.2426\n",
      "Epoch 11/20\n",
      "500/500 [==============================] - 109s 218ms/step - loss: 0.2581 - val_loss: 0.3243\n",
      "Epoch 12/20\n",
      "500/500 [==============================] - 109s 217ms/step - loss: 0.2555 - val_loss: 0.3168\n",
      "Epoch 13/20\n",
      "500/500 [==============================] - 109s 218ms/step - loss: 0.2504 - val_loss: 0.2945\n",
      "Epoch 14/20\n",
      "500/500 [==============================] - 109s 218ms/step - loss: 0.2469 - val_loss: 0.2724\n",
      "Epoch 15/20\n",
      "500/500 [==============================] - 113s 226ms/step - loss: 0.2447 - val_loss: 0.3176\n",
      "Epoch 16/20\n",
      "500/500 [==============================] - 117s 234ms/step - loss: 0.2404 - val_loss: 0.3364\n",
      "Epoch 17/20\n",
      "500/500 [==============================] - 120s 239ms/step - loss: 0.2360 - val_loss: 0.2809\n",
      "Epoch 18/20\n",
      "500/500 [==============================] - 118s 235ms/step - loss: 0.2333 - val_loss: 0.3219\n",
      "Epoch 19/20\n",
      "500/500 [==============================] - 115s 230ms/step - loss: 0.2282 - val_loss: 0.3579\n",
      "Epoch 20/20\n",
      "500/500 [==============================] - 115s 230ms/step - loss: 0.2256 - val_loss: 0.3181\n"
     ]
    }
   ],
   "source": [
    "from keras.models import Sequential\n",
    "from keras import layers\n",
    "from keras.optimizers import RMSprop\n",
    "model = Sequential()\n",
    "model.add(layers.GRU(32, input_shape=(None, float_data.shape[-1])))\n",
    "model.add(layers.Dense(1))\n",
    "model.compile(optimizer=RMSprop(), loss='mae')\n",
    "history = model.fit_generator(train_gen,\n",
    "                            steps_per_epoch=500,\n",
    "                            epochs=20,\n",
    "                            validation_data=val_gen,\n",
    "                            validation_steps=val_steps)"
   ]
  },
  {
   "cell_type": "code",
   "execution_count": 12,
   "metadata": {},
   "outputs": [
    {
     "data": {
      "image/png": "[encoded data removed]",
      "text/plain": [
       "<Figure size 432x288 with 1 Axes>"
      ]
     },
     "metadata": {
      "needs_background": "light"
     },
     "output_type": "display_data"
    }
   ],
   "source": [
    "import matplotlib.pyplot as plt\n",
    "loss = history.history['loss']\n",
    "val_loss = history.history['val_loss']\n",
    "epochs = range(1, len(loss) + 1)\n",
    "plt.figure()\n",
    "plt.plot(epochs, loss, 'bo', label='Training loss')\n",
    "plt.plot(epochs, val_loss, 'b', label='Validation loss')\n",
    "plt.title('Training and validation loss')\n",
    "plt.ylim(0.2, 0.4,0.02)\n",
    "plt.legend()\n",
    "plt.show()"
   ]
  },
  {
   "cell_type": "code",
   "execution_count": 14,
   "metadata": {},
   "outputs": [
    {
     "name": "stdout",
     "output_type": "stream",
     "text": [
      "Epoch 1/20\n",
      "500/500 [==============================] - 62s 123ms/step - loss: 0.3503 - val_loss: 0.3394\n",
      "Epoch 2/20\n",
      "500/500 [==============================] - 53s 107ms/step - loss: 0.3177 - val_loss: 0.3145\n",
      "Epoch 3/20\n",
      "500/500 [==============================] - 55s 109ms/step - loss: 0.3006 - val_loss: 0.2893\n",
      "Epoch 4/20\n",
      "500/500 [==============================] - 53s 105ms/step - loss: 0.2896 - val_loss: 0.3135\n",
      "Epoch 5/20\n",
      "500/500 [==============================] - 50s 100ms/step - loss: 0.2772 - val_loss: 0.3044\n",
      "Epoch 6/20\n",
      "500/500 [==============================] - 48s 97ms/step - loss: 0.2688 - val_loss: 0.3218\n",
      "Epoch 7/20\n",
      "500/500 [==============================] - 49s 97ms/step - loss: 0.2580 - val_loss: 0.3279\n",
      "Epoch 8/20\n",
      "500/500 [==============================] - 48s 96ms/step - loss: 0.2483 - val_loss: 0.3466\n",
      "Epoch 9/20\n",
      "500/500 [==============================] - 49s 97ms/step - loss: 0.2406 - val_loss: 0.3063\n",
      "Epoch 10/20\n",
      "500/500 [==============================] - 49s 97ms/step - loss: 0.2321 - val_loss: 0.3132\n",
      "Epoch 11/20\n",
      "500/500 [==============================] - 49s 98ms/step - loss: 0.2258 - val_loss: 0.3197\n",
      "Epoch 12/20\n",
      "500/500 [==============================] - 51s 102ms/step - loss: 0.2193 - val_loss: 0.3577\n",
      "Epoch 13/20\n",
      "500/500 [==============================] - 49s 99ms/step - loss: 0.2128 - val_loss: 0.3432\n",
      "Epoch 14/20\n",
      "500/500 [==============================] - 49s 97ms/step - loss: 0.2084 - val_loss: 0.3394\n",
      "Epoch 15/20\n",
      "500/500 [==============================] - 49s 99ms/step - loss: 0.2037 - val_loss: 0.3257\n",
      "Epoch 16/20\n",
      "500/500 [==============================] - 50s 100ms/step - loss: 0.2006 - val_loss: 0.3618\n",
      "Epoch 17/20\n",
      "500/500 [==============================] - 53s 106ms/step - loss: 0.1967 - val_loss: 0.3453\n",
      "Epoch 18/20\n",
      "500/500 [==============================] - 48s 95ms/step - loss: 0.1917 - val_loss: 0.3431\n",
      "Epoch 19/20\n",
      "500/500 [==============================] - 47s 94ms/step - loss: 0.1895 - val_loss: 0.3130\n",
      "Epoch 20/20\n",
      "500/500 [==============================] - 48s 95ms/step - loss: 0.1869 - val_loss: 0.3510\n"
     ]
    }
   ],
   "source": [
    "from keras.models import Sequential\n",
    "from keras import layers\n",
    "from keras.optimizers import RMSprop\n",
    "model = Sequential()\n",
    "model.add(layers.Conv1D(32, 5, activation='relu', input_shape=(None, float_data.shape[-1])))\n",
    "model.add(layers.MaxPooling1D(3))\n",
    "model.add(layers.Conv1D(32, 5, activation='relu'))\n",
    "model.add(layers.GRU(32, dropout=0.1, recurrent_dropout=0.005))\n",
    "model.add(layers.Dense(1))\n",
    "model.compile(optimizer=RMSprop(), loss='mae')\n",
    "history = model.fit_generator(train_gen,\n",
    "                            steps_per_epoch=500,\n",
    "                            epochs=20,\n",
    "                            validation_data=val_gen,\n",
    "                            validation_steps=val_steps)"
   ]
  },
  {
   "cell_type": "code",
   "execution_count": 15,
   "metadata": {
    "scrolled": true
   },
   "outputs": [
    {
     "data": {
      "image/png": "[encoded data removed]",
      "text/plain": [
       "<Figure size 432x288 with 1 Axes>"
      ]
     },
     "metadata": {
      "needs_background": "light"
     },
     "output_type": "display_data"
    }
   ],
   "source": [
    "import matplotlib.pyplot as plt\n",
    "loss = history.history['loss']\n",
    "val_loss = history.history['val_loss']\n",
    "epochs = range(1, len(loss) + 1)\n",
    "plt.figure()\n",
    "plt.plot(epochs, loss, 'bo', label='Training loss')\n",
    "plt.plot(epochs, val_loss, 'b', label='Validation loss')\n",
    "plt.title('Training and validation loss')\n",
    "plt.legend()\n",
    "plt.show()"
   ]
  },
  {
   "cell_type": "code",
   "execution_count": 49,
   "metadata": {},
   "outputs": [],
   "source": [
    "tar = []\n",
    "for i in range(delay):\n",
    "    tar.append(model.predict(np.expand_dims(float_data[-240-2*delay+i:-2*delay+i], axis=0))[0].reshape(()))"
   ]
  },
  {
   "cell_type": "code",
   "execution_count": 50,
   "metadata": {},
   "outputs": [],
   "source": [
    "tar = tar * np.array(std) + np.array(mean)"
   ]
  },
  {
   "cell_type": "code",
   "execution_count": 51,
   "metadata": {},
   "outputs": [
    {
     "data": {
      "image/png": "[encoded data removed]",
      "text/plain": [
       "<Figure size 432x288 with 1 Axes>"
      ]
     },
     "metadata": {
      "needs_background": "light"
     },
     "output_type": "display_data"
    }
   ],
   "source": [
    "plt.plot(range(delay), tar, color='red')\n",
    "plt.xlabel('Time')\n",
    "plt.ylabel('Temperature in deg C')\n",
    "plt.show()"
   ]
  },
  {
   "cell_type": "code",
   "execution_count": 58,
   "metadata": {},
   "outputs": [],
   "source": [
    "history = model.evaluate_generator(test_gen, steps=test_steps)"
   ]
  },
  {
   "cell_type": "code",
   "execution_count": 59,
   "metadata": {},
   "outputs": [
    {
     "data": {
      "text/plain": [
       "0.29392555356025696"
      ]
     },
     "execution_count": 59,
     "metadata": {},
     "output_type": "execute_result"
    }
   ],
   "source": [
    "history"
   ]
  },
  {
   "cell_type": "code",
   "execution_count": null,
   "metadata": {},
   "outputs": [],
   "source": []
  }
 ],
 "metadata": {
  "kernelspec": {
   "display_name": "Python 3",
   "language": "python",
   "name": "python3"
  },
  "language_info": {
   "codemirror_mode": {
    "name": "ipython",
    "version": 3
   },
   "file_extension": ".py",
   "mimetype": "text/x-python",
   "name": "python",
   "nbconvert_exporter": "python",
   "pygments_lexer": "ipython3",
   "version": "3.7.7"
  }
 },
 "nbformat": 4,
 "nbformat_minor": 4
}
